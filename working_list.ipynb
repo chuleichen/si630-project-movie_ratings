{
 "cells": [
  {
   "cell_type": "markdown",
   "id": "054efdf7",
   "metadata": {},
   "source": [
    "# before = 1, after = 1"
   ]
  },
  {
   "cell_type": "code",
   "execution_count": null,
   "id": "b8761fe6",
   "metadata": {
    "scrolled": true
   },
   "outputs": [],
   "source": [
    "!python load_data.py --before 1 --after 1"
   ]
  },
  {
   "cell_type": "markdown",
   "id": "86215607",
   "metadata": {},
   "source": [
    "## LG"
   ]
  },
  {
   "cell_type": "markdown",
   "id": "9f0bf142",
   "metadata": {},
   "source": [
    "### rating"
   ]
  },
  {
   "cell_type": "code",
   "execution_count": null,
   "id": "75fee1b8",
   "metadata": {
    "scrolled": true
   },
   "outputs": [],
   "source": [
    "!python train_lg.py --rating --threshold 5"
   ]
  },
  {
   "cell_type": "code",
   "execution_count": null,
   "id": "29ed271c",
   "metadata": {
    "scrolled": true
   },
   "outputs": [],
   "source": [
    "!python train_lg.py --rating --threshold 5.5"
   ]
  },
  {
   "cell_type": "code",
   "execution_count": null,
   "id": "665d575c",
   "metadata": {
    "scrolled": true
   },
   "outputs": [],
   "source": [
    "!python train_lg.py --rating --threshold 6"
   ]
  },
  {
   "cell_type": "code",
   "execution_count": null,
   "id": "ba255390",
   "metadata": {
    "scrolled": true
   },
   "outputs": [],
   "source": [
    "!python train_lg.py --rating --threshold 6.5"
   ]
  },
  {
   "cell_type": "code",
   "execution_count": null,
   "id": "12836c99",
   "metadata": {
    "scrolled": true
   },
   "outputs": [],
   "source": [
    "!python train_lg.py --rating --threshold 7"
   ]
  },
  {
   "cell_type": "code",
   "execution_count": null,
   "id": "4624d098",
   "metadata": {
    "scrolled": true
   },
   "outputs": [],
   "source": [
    "!python train_lg.py --rating --threshold 7.5"
   ]
  },
  {
   "cell_type": "code",
   "execution_count": null,
   "id": "ea05e6a1",
   "metadata": {
    "scrolled": true
   },
   "outputs": [],
   "source": [
    "!python train_lg.py --rating --threshold 8"
   ]
  },
  {
   "cell_type": "markdown",
   "id": "bda64f9d",
   "metadata": {},
   "source": [
    "### popularity"
   ]
  },
  {
   "cell_type": "code",
   "execution_count": null,
   "id": "184e34fd",
   "metadata": {
    "scrolled": true
   },
   "outputs": [],
   "source": [
    "!python train_lg.py --popularity --threshold 10"
   ]
  },
  {
   "cell_type": "code",
   "execution_count": null,
   "id": "ad280558",
   "metadata": {
    "scrolled": true
   },
   "outputs": [],
   "source": [
    "!python train_lg.py --popularity --threshold 15"
   ]
  },
  {
   "cell_type": "code",
   "execution_count": null,
   "id": "8d5a13bc",
   "metadata": {
    "scrolled": true
   },
   "outputs": [],
   "source": [
    "!python train_lg.py --popularity --threshold 20"
   ]
  },
  {
   "cell_type": "code",
   "execution_count": null,
   "id": "2b8d45df",
   "metadata": {
    "scrolled": true
   },
   "outputs": [],
   "source": [
    "!python train_lg.py --popularity --threshold 25"
   ]
  },
  {
   "cell_type": "code",
   "execution_count": null,
   "id": "56b64ca3",
   "metadata": {
    "scrolled": true
   },
   "outputs": [],
   "source": [
    "!python train_lg.py --popularity --threshold 30"
   ]
  },
  {
   "cell_type": "code",
   "execution_count": null,
   "id": "2fbd6cbd",
   "metadata": {
    "scrolled": true
   },
   "outputs": [],
   "source": [
    "!python train_lg.py --popularity --threshold 35"
   ]
  },
  {
   "cell_type": "markdown",
   "id": "4b439dc7",
   "metadata": {},
   "source": [
    "## NN"
   ]
  },
  {
   "cell_type": "code",
   "execution_count": null,
   "id": "cd1b0fee",
   "metadata": {
    "scrolled": true
   },
   "outputs": [],
   "source": [
    "!python train_nn.py --rating"
   ]
  },
  {
   "cell_type": "code",
   "execution_count": null,
   "id": "92451aa2",
   "metadata": {
    "scrolled": true
   },
   "outputs": [],
   "source": [
    "!python train_nn.py --popularity"
   ]
  },
  {
   "cell_type": "markdown",
   "id": "9bff3319",
   "metadata": {},
   "source": [
    "# before = 0.9 after = 1"
   ]
  },
  {
   "cell_type": "code",
   "execution_count": null,
   "id": "734e9f87",
   "metadata": {
    "scrolled": true
   },
   "outputs": [],
   "source": [
    "!python load_data.py --before 0.9 --after 1"
   ]
  },
  {
   "cell_type": "markdown",
   "id": "fac7cb51",
   "metadata": {},
   "source": [
    "## LG"
   ]
  },
  {
   "cell_type": "markdown",
   "id": "686d11b8",
   "metadata": {},
   "source": [
    "### rating"
   ]
  },
  {
   "cell_type": "code",
   "execution_count": null,
   "id": "ac8f1008",
   "metadata": {
    "scrolled": true
   },
   "outputs": [],
   "source": [
    "!python train_lg.py --rating --threshold 5"
   ]
  },
  {
   "cell_type": "code",
   "execution_count": null,
   "id": "d142a26f",
   "metadata": {
    "scrolled": true
   },
   "outputs": [],
   "source": [
    "!python train_lg.py --rating --threshold 5.5"
   ]
  },
  {
   "cell_type": "code",
   "execution_count": null,
   "id": "c44183cd",
   "metadata": {
    "scrolled": true
   },
   "outputs": [],
   "source": [
    "!python train_lg.py --rating --threshold 6"
   ]
  },
  {
   "cell_type": "code",
   "execution_count": null,
   "id": "dfcef3af",
   "metadata": {
    "scrolled": true
   },
   "outputs": [],
   "source": [
    "!python train_lg.py --rating --threshold 6.5"
   ]
  },
  {
   "cell_type": "code",
   "execution_count": null,
   "id": "e7df8295",
   "metadata": {
    "scrolled": true
   },
   "outputs": [],
   "source": [
    "!python train_lg.py --rating --threshold 7"
   ]
  },
  {
   "cell_type": "code",
   "execution_count": null,
   "id": "84f97fa8",
   "metadata": {
    "scrolled": true
   },
   "outputs": [],
   "source": [
    "!python train_lg.py --rating --threshold 7.5"
   ]
  },
  {
   "cell_type": "code",
   "execution_count": null,
   "id": "98f6bf55",
   "metadata": {
    "scrolled": true
   },
   "outputs": [],
   "source": [
    "!python train_lg.py --rating --threshold 8"
   ]
  },
  {
   "cell_type": "markdown",
   "id": "6a9339e7",
   "metadata": {},
   "source": [
    "### popularity"
   ]
  },
  {
   "cell_type": "code",
   "execution_count": null,
   "id": "23e244e2",
   "metadata": {
    "scrolled": true
   },
   "outputs": [],
   "source": [
    "!python train_lg.py --popularity --threshold 10"
   ]
  },
  {
   "cell_type": "code",
   "execution_count": null,
   "id": "e92d6ed0",
   "metadata": {
    "scrolled": true
   },
   "outputs": [],
   "source": [
    "!python train_lg.py --popularity --threshold 15"
   ]
  },
  {
   "cell_type": "code",
   "execution_count": null,
   "id": "93af8f99",
   "metadata": {
    "scrolled": true
   },
   "outputs": [],
   "source": [
    "!python train_lg.py --popularity --threshold 20"
   ]
  },
  {
   "cell_type": "code",
   "execution_count": null,
   "id": "cf533bfc",
   "metadata": {
    "scrolled": true
   },
   "outputs": [],
   "source": [
    "!python train_lg.py --popularity --threshold 25"
   ]
  },
  {
   "cell_type": "code",
   "execution_count": null,
   "id": "90a1defd",
   "metadata": {
    "scrolled": true
   },
   "outputs": [],
   "source": [
    "!python train_lg.py --popularity --threshold 30"
   ]
  },
  {
   "cell_type": "code",
   "execution_count": null,
   "id": "e8bc1caa",
   "metadata": {
    "scrolled": true
   },
   "outputs": [],
   "source": [
    "!python train_lg.py --popularity --threshold 35"
   ]
  },
  {
   "cell_type": "markdown",
   "id": "22b758ca",
   "metadata": {},
   "source": [
    "## NN"
   ]
  },
  {
   "cell_type": "code",
   "execution_count": null,
   "id": "e3416e2d",
   "metadata": {
    "scrolled": true
   },
   "outputs": [],
   "source": [
    "!python train_nn.py --rating"
   ]
  },
  {
   "cell_type": "code",
   "execution_count": null,
   "id": "0f4dbf5e",
   "metadata": {
    "scrolled": true
   },
   "outputs": [],
   "source": [
    "!python train_nn.py --popularity"
   ]
  },
  {
   "cell_type": "markdown",
   "id": "08f2eba6",
   "metadata": {},
   "source": [
    "# before = 0.8 after = 1"
   ]
  },
  {
   "cell_type": "code",
   "execution_count": null,
   "id": "772a55cb",
   "metadata": {
    "scrolled": true
   },
   "outputs": [],
   "source": [
    "!python load_data.py --before 0.8 --after 1"
   ]
  },
  {
   "cell_type": "markdown",
   "id": "3c94026e",
   "metadata": {},
   "source": [
    "## LG"
   ]
  },
  {
   "cell_type": "markdown",
   "id": "f4b2b701",
   "metadata": {},
   "source": [
    "### rating"
   ]
  },
  {
   "cell_type": "code",
   "execution_count": null,
   "id": "c0628c4e",
   "metadata": {
    "scrolled": true
   },
   "outputs": [],
   "source": [
    "!python train_lg.py --rating --threshold 5"
   ]
  },
  {
   "cell_type": "code",
   "execution_count": null,
   "id": "86e05f83",
   "metadata": {
    "scrolled": true
   },
   "outputs": [],
   "source": [
    "!python train_lg.py --rating --threshold 5.5"
   ]
  },
  {
   "cell_type": "code",
   "execution_count": null,
   "id": "4a4d9343",
   "metadata": {
    "scrolled": true
   },
   "outputs": [],
   "source": [
    "!python train_lg.py --rating --threshold 6"
   ]
  },
  {
   "cell_type": "code",
   "execution_count": null,
   "id": "b83c7039",
   "metadata": {
    "scrolled": true
   },
   "outputs": [],
   "source": [
    "!python train_lg.py --rating --threshold 6.5"
   ]
  },
  {
   "cell_type": "code",
   "execution_count": null,
   "id": "142c58c8",
   "metadata": {
    "scrolled": true
   },
   "outputs": [],
   "source": [
    "!python train_lg.py --rating --threshold 7"
   ]
  },
  {
   "cell_type": "code",
   "execution_count": null,
   "id": "386b449e",
   "metadata": {
    "scrolled": true
   },
   "outputs": [],
   "source": [
    "!python train_lg.py --rating --threshold 7.5"
   ]
  },
  {
   "cell_type": "code",
   "execution_count": null,
   "id": "cf13c9ee",
   "metadata": {
    "scrolled": true
   },
   "outputs": [],
   "source": [
    "!python train_lg.py --rating --threshold 8"
   ]
  },
  {
   "cell_type": "markdown",
   "id": "7cc15e2c",
   "metadata": {},
   "source": [
    "### popularity"
   ]
  },
  {
   "cell_type": "code",
   "execution_count": null,
   "id": "fc960d1d",
   "metadata": {
    "scrolled": true
   },
   "outputs": [],
   "source": [
    "!python train_lg.py --popularity --threshold 10"
   ]
  },
  {
   "cell_type": "code",
   "execution_count": null,
   "id": "9f7891aa",
   "metadata": {
    "scrolled": true
   },
   "outputs": [],
   "source": [
    "!python train_lg.py --popularity --threshold 15"
   ]
  },
  {
   "cell_type": "code",
   "execution_count": null,
   "id": "52cf04d6",
   "metadata": {
    "scrolled": true
   },
   "outputs": [],
   "source": [
    "!python train_lg.py --popularity --threshold 20"
   ]
  },
  {
   "cell_type": "code",
   "execution_count": null,
   "id": "2da94586",
   "metadata": {
    "scrolled": true
   },
   "outputs": [],
   "source": [
    "!python train_lg.py --popularity --threshold 25"
   ]
  },
  {
   "cell_type": "code",
   "execution_count": null,
   "id": "62013d4f",
   "metadata": {
    "scrolled": true
   },
   "outputs": [],
   "source": [
    "!python train_lg.py --popularity --threshold 30"
   ]
  },
  {
   "cell_type": "code",
   "execution_count": null,
   "id": "fa198fb7",
   "metadata": {
    "scrolled": true
   },
   "outputs": [],
   "source": [
    "!python train_lg.py --popularity --threshold 35"
   ]
  },
  {
   "cell_type": "markdown",
   "id": "8e47cea4",
   "metadata": {},
   "source": [
    "## NN"
   ]
  },
  {
   "cell_type": "code",
   "execution_count": null,
   "id": "db29d67a",
   "metadata": {
    "scrolled": true
   },
   "outputs": [],
   "source": [
    "!python train_nn.py --rating"
   ]
  },
  {
   "cell_type": "code",
   "execution_count": null,
   "id": "901277e0",
   "metadata": {
    "scrolled": true
   },
   "outputs": [],
   "source": [
    "!python train_nn.py --popularity"
   ]
  },
  {
   "cell_type": "markdown",
   "id": "fdd99767",
   "metadata": {},
   "source": [
    "# before = 0.7 after = 1"
   ]
  },
  {
   "cell_type": "code",
   "execution_count": null,
   "id": "f6387598",
   "metadata": {
    "scrolled": true
   },
   "outputs": [],
   "source": [
    "!python load_data.py --before 0.7 --after 1"
   ]
  },
  {
   "cell_type": "markdown",
   "id": "8db6951a",
   "metadata": {},
   "source": [
    "## LG"
   ]
  },
  {
   "cell_type": "markdown",
   "id": "67ff17d3",
   "metadata": {},
   "source": [
    "### rating"
   ]
  },
  {
   "cell_type": "code",
   "execution_count": null,
   "id": "be271a26",
   "metadata": {
    "scrolled": true
   },
   "outputs": [],
   "source": [
    "!python train_lg.py --rating --threshold 5"
   ]
  },
  {
   "cell_type": "code",
   "execution_count": null,
   "id": "216ba959",
   "metadata": {
    "scrolled": true
   },
   "outputs": [],
   "source": [
    "!python train_lg.py --rating --threshold 5.5"
   ]
  },
  {
   "cell_type": "code",
   "execution_count": null,
   "id": "c058db9d",
   "metadata": {
    "scrolled": true
   },
   "outputs": [],
   "source": [
    "!python train_lg.py --rating --threshold 6"
   ]
  },
  {
   "cell_type": "code",
   "execution_count": null,
   "id": "c0b77260",
   "metadata": {
    "scrolled": true
   },
   "outputs": [],
   "source": [
    "!python train_lg.py --rating --threshold 6.5"
   ]
  },
  {
   "cell_type": "code",
   "execution_count": null,
   "id": "523b1d57",
   "metadata": {
    "scrolled": true
   },
   "outputs": [],
   "source": [
    "!python train_lg.py --rating --threshold 7"
   ]
  },
  {
   "cell_type": "code",
   "execution_count": null,
   "id": "ef1f6bfe",
   "metadata": {
    "scrolled": true
   },
   "outputs": [],
   "source": [
    "!python train_lg.py --rating --threshold 7.5"
   ]
  },
  {
   "cell_type": "code",
   "execution_count": null,
   "id": "9b2c0b3e",
   "metadata": {
    "scrolled": true
   },
   "outputs": [],
   "source": [
    "!python train_lg.py --rating --threshold 8"
   ]
  },
  {
   "cell_type": "markdown",
   "id": "7671d6ae",
   "metadata": {},
   "source": [
    "### popularity"
   ]
  },
  {
   "cell_type": "code",
   "execution_count": null,
   "id": "7205a293",
   "metadata": {
    "scrolled": true
   },
   "outputs": [],
   "source": [
    "!python train_lg.py --popularity --threshold 10"
   ]
  },
  {
   "cell_type": "code",
   "execution_count": null,
   "id": "c514e193",
   "metadata": {
    "scrolled": true
   },
   "outputs": [],
   "source": [
    "!python train_lg.py --popularity --threshold 15"
   ]
  },
  {
   "cell_type": "code",
   "execution_count": null,
   "id": "2c638d0f",
   "metadata": {
    "scrolled": true
   },
   "outputs": [],
   "source": [
    "!python train_lg.py --popularity --threshold 20"
   ]
  },
  {
   "cell_type": "code",
   "execution_count": null,
   "id": "32891161",
   "metadata": {
    "scrolled": true
   },
   "outputs": [],
   "source": [
    "!python train_lg.py --popularity --threshold 25"
   ]
  },
  {
   "cell_type": "code",
   "execution_count": null,
   "id": "17918328",
   "metadata": {
    "scrolled": true
   },
   "outputs": [],
   "source": [
    "!python train_lg.py --popularity --threshold 30"
   ]
  },
  {
   "cell_type": "code",
   "execution_count": null,
   "id": "bc10e920",
   "metadata": {
    "scrolled": true
   },
   "outputs": [],
   "source": [
    "!python train_lg.py --popularity --threshold 35"
   ]
  },
  {
   "cell_type": "markdown",
   "id": "3d66f8b7",
   "metadata": {},
   "source": [
    "## NN"
   ]
  },
  {
   "cell_type": "code",
   "execution_count": null,
   "id": "2f905133",
   "metadata": {
    "scrolled": true
   },
   "outputs": [],
   "source": [
    "!python train_nn.py --rating"
   ]
  },
  {
   "cell_type": "code",
   "execution_count": null,
   "id": "0f5e5f47",
   "metadata": {
    "scrolled": true
   },
   "outputs": [],
   "source": [
    "!python train_nn.py --popularity"
   ]
  },
  {
   "cell_type": "markdown",
   "id": "c0d6b93c",
   "metadata": {},
   "source": [
    "# before = 0.6 after = 1"
   ]
  },
  {
   "cell_type": "code",
   "execution_count": null,
   "id": "c5be46fb",
   "metadata": {
    "scrolled": true
   },
   "outputs": [],
   "source": [
    "!python load_data.py --before 0.6--after 1"
   ]
  },
  {
   "cell_type": "markdown",
   "id": "94ba1549",
   "metadata": {},
   "source": [
    "## LG"
   ]
  },
  {
   "cell_type": "markdown",
   "id": "1fe83f9c",
   "metadata": {},
   "source": [
    "### rating"
   ]
  },
  {
   "cell_type": "code",
   "execution_count": null,
   "id": "8ddc1c5e",
   "metadata": {
    "scrolled": true
   },
   "outputs": [],
   "source": [
    "!python train_lg.py --rating --threshold 5"
   ]
  },
  {
   "cell_type": "code",
   "execution_count": null,
   "id": "605c303e",
   "metadata": {
    "scrolled": true
   },
   "outputs": [],
   "source": [
    "!python train_lg.py --rating --threshold 5.5"
   ]
  },
  {
   "cell_type": "code",
   "execution_count": null,
   "id": "ca73ffa0",
   "metadata": {
    "scrolled": true
   },
   "outputs": [],
   "source": [
    "!python train_lg.py --rating --threshold 6"
   ]
  },
  {
   "cell_type": "code",
   "execution_count": null,
   "id": "35272e6e",
   "metadata": {
    "scrolled": true
   },
   "outputs": [],
   "source": [
    "!python train_lg.py --rating --threshold 6.5"
   ]
  },
  {
   "cell_type": "code",
   "execution_count": null,
   "id": "c03f4eae",
   "metadata": {
    "scrolled": true
   },
   "outputs": [],
   "source": [
    "!python train_lg.py --rating --threshold 7"
   ]
  },
  {
   "cell_type": "code",
   "execution_count": null,
   "id": "7d7fb997",
   "metadata": {
    "scrolled": true
   },
   "outputs": [],
   "source": [
    "!python train_lg.py --rating --threshold 7.5"
   ]
  },
  {
   "cell_type": "code",
   "execution_count": null,
   "id": "04352526",
   "metadata": {
    "scrolled": true
   },
   "outputs": [],
   "source": [
    "!python train_lg.py --rating --threshold 8"
   ]
  },
  {
   "cell_type": "markdown",
   "id": "d7cc6797",
   "metadata": {},
   "source": [
    "### popularity"
   ]
  },
  {
   "cell_type": "code",
   "execution_count": null,
   "id": "816201bb",
   "metadata": {
    "scrolled": true
   },
   "outputs": [],
   "source": [
    "!python train_lg.py --popularity --threshold 10"
   ]
  },
  {
   "cell_type": "code",
   "execution_count": null,
   "id": "826f4aab",
   "metadata": {
    "scrolled": true
   },
   "outputs": [],
   "source": [
    "!python train_lg.py --popularity --threshold 15"
   ]
  },
  {
   "cell_type": "code",
   "execution_count": null,
   "id": "c3539b7f",
   "metadata": {
    "scrolled": true
   },
   "outputs": [],
   "source": [
    "!python train_lg.py --popularity --threshold 20"
   ]
  },
  {
   "cell_type": "code",
   "execution_count": null,
   "id": "984b6cbd",
   "metadata": {
    "scrolled": true
   },
   "outputs": [],
   "source": [
    "!python train_lg.py --popularity --threshold 25"
   ]
  },
  {
   "cell_type": "code",
   "execution_count": null,
   "id": "9599a843",
   "metadata": {
    "scrolled": true
   },
   "outputs": [],
   "source": [
    "!python train_lg.py --popularity --threshold 30"
   ]
  },
  {
   "cell_type": "code",
   "execution_count": null,
   "id": "c3470627",
   "metadata": {
    "scrolled": true
   },
   "outputs": [],
   "source": [
    "!python train_lg.py --popularity --threshold 35"
   ]
  },
  {
   "cell_type": "markdown",
   "id": "ccaf2b45",
   "metadata": {},
   "source": [
    "## NN"
   ]
  },
  {
   "cell_type": "code",
   "execution_count": null,
   "id": "d072bf89",
   "metadata": {
    "scrolled": true
   },
   "outputs": [],
   "source": [
    "!python train_nn.py --rating"
   ]
  },
  {
   "cell_type": "code",
   "execution_count": null,
   "id": "9338e907",
   "metadata": {
    "scrolled": true
   },
   "outputs": [],
   "source": [
    "!python train_nn.py --popularity"
   ]
  },
  {
   "cell_type": "markdown",
   "id": "08e497f9",
   "metadata": {},
   "source": [
    "# before = 0.5 after = 1"
   ]
  },
  {
   "cell_type": "code",
   "execution_count": null,
   "id": "aa6930ee",
   "metadata": {
    "scrolled": true
   },
   "outputs": [],
   "source": [
    "!python load_data.py --before 0.5 --after 1"
   ]
  },
  {
   "cell_type": "markdown",
   "id": "d3fb1597",
   "metadata": {},
   "source": [
    "## LG"
   ]
  },
  {
   "cell_type": "markdown",
   "id": "9f86e1d0",
   "metadata": {},
   "source": [
    "### rating"
   ]
  },
  {
   "cell_type": "code",
   "execution_count": null,
   "id": "8d92f6d8",
   "metadata": {
    "scrolled": true
   },
   "outputs": [],
   "source": [
    "!python train_lg.py --rating --threshold 5"
   ]
  },
  {
   "cell_type": "code",
   "execution_count": null,
   "id": "41f266b9",
   "metadata": {
    "scrolled": true
   },
   "outputs": [],
   "source": [
    "!python train_lg.py --rating --threshold 5.5"
   ]
  },
  {
   "cell_type": "code",
   "execution_count": null,
   "id": "2d0c085f",
   "metadata": {
    "scrolled": true
   },
   "outputs": [],
   "source": [
    "!python train_lg.py --rating --threshold 6"
   ]
  },
  {
   "cell_type": "code",
   "execution_count": null,
   "id": "d1451521",
   "metadata": {
    "scrolled": true
   },
   "outputs": [],
   "source": [
    "!python train_lg.py --rating --threshold 6.5"
   ]
  },
  {
   "cell_type": "code",
   "execution_count": null,
   "id": "8df6ee26",
   "metadata": {
    "scrolled": true
   },
   "outputs": [],
   "source": [
    "!python train_lg.py --rating --threshold 7"
   ]
  },
  {
   "cell_type": "code",
   "execution_count": null,
   "id": "fe7172e6",
   "metadata": {
    "scrolled": true
   },
   "outputs": [],
   "source": [
    "!python train_lg.py --rating --threshold 7.5"
   ]
  },
  {
   "cell_type": "code",
   "execution_count": null,
   "id": "d00ba1a3",
   "metadata": {
    "scrolled": true
   },
   "outputs": [],
   "source": [
    "!python train_lg.py --rating --threshold 8"
   ]
  },
  {
   "cell_type": "markdown",
   "id": "ce7ceddc",
   "metadata": {},
   "source": [
    "### popularity"
   ]
  },
  {
   "cell_type": "code",
   "execution_count": null,
   "id": "cee59e60",
   "metadata": {
    "scrolled": true
   },
   "outputs": [],
   "source": [
    "!python train_lg.py --popularity --threshold 10"
   ]
  },
  {
   "cell_type": "code",
   "execution_count": null,
   "id": "c06c0dc7",
   "metadata": {
    "scrolled": true
   },
   "outputs": [],
   "source": [
    "!python train_lg.py --popularity --threshold 15"
   ]
  },
  {
   "cell_type": "code",
   "execution_count": null,
   "id": "a2b361b9",
   "metadata": {
    "scrolled": true
   },
   "outputs": [],
   "source": [
    "!python train_lg.py --popularity --threshold 20"
   ]
  },
  {
   "cell_type": "code",
   "execution_count": null,
   "id": "e0fa005f",
   "metadata": {
    "scrolled": true
   },
   "outputs": [],
   "source": [
    "!python train_lg.py --popularity --threshold 25"
   ]
  },
  {
   "cell_type": "code",
   "execution_count": null,
   "id": "40d8308a",
   "metadata": {
    "scrolled": true
   },
   "outputs": [],
   "source": [
    "!python train_lg.py --popularity --threshold 30"
   ]
  },
  {
   "cell_type": "code",
   "execution_count": null,
   "id": "d447a997",
   "metadata": {
    "scrolled": true
   },
   "outputs": [],
   "source": [
    "!python train_lg.py --popularity --threshold 35"
   ]
  },
  {
   "cell_type": "markdown",
   "id": "870c1ce2",
   "metadata": {},
   "source": [
    "## NN"
   ]
  },
  {
   "cell_type": "code",
   "execution_count": null,
   "id": "1f9c0d25",
   "metadata": {
    "scrolled": true
   },
   "outputs": [],
   "source": [
    "!python train_nn.py --rating"
   ]
  },
  {
   "cell_type": "code",
   "execution_count": null,
   "id": "0c785982",
   "metadata": {
    "scrolled": true
   },
   "outputs": [],
   "source": [
    "!python train_nn.py --popularity"
   ]
  },
  {
   "cell_type": "markdown",
   "id": "d2d5b554",
   "metadata": {},
   "source": [
    "# before = 0.4 after = 1"
   ]
  },
  {
   "cell_type": "code",
   "execution_count": null,
   "id": "ac3111cc",
   "metadata": {
    "scrolled": true
   },
   "outputs": [],
   "source": [
    "!python load_data.py --before 0.4 --after 1"
   ]
  },
  {
   "cell_type": "markdown",
   "id": "969ec68b",
   "metadata": {},
   "source": [
    "## LG"
   ]
  },
  {
   "cell_type": "markdown",
   "id": "862ae729",
   "metadata": {},
   "source": [
    "### rating"
   ]
  },
  {
   "cell_type": "code",
   "execution_count": null,
   "id": "019f4bbd",
   "metadata": {
    "scrolled": true
   },
   "outputs": [],
   "source": [
    "!python train_lg.py --rating --threshold 5"
   ]
  },
  {
   "cell_type": "code",
   "execution_count": null,
   "id": "dd7708b5",
   "metadata": {
    "scrolled": true
   },
   "outputs": [],
   "source": [
    "!python train_lg.py --rating --threshold 5.5"
   ]
  },
  {
   "cell_type": "code",
   "execution_count": null,
   "id": "7d3cb429",
   "metadata": {
    "scrolled": true
   },
   "outputs": [],
   "source": [
    "!python train_lg.py --rating --threshold 6"
   ]
  },
  {
   "cell_type": "code",
   "execution_count": null,
   "id": "4130630e",
   "metadata": {
    "scrolled": true
   },
   "outputs": [],
   "source": [
    "!python train_lg.py --rating --threshold 6.5"
   ]
  },
  {
   "cell_type": "code",
   "execution_count": null,
   "id": "62bebabe",
   "metadata": {
    "scrolled": true
   },
   "outputs": [],
   "source": [
    "!python train_lg.py --rating --threshold 7"
   ]
  },
  {
   "cell_type": "code",
   "execution_count": null,
   "id": "ec383955",
   "metadata": {
    "scrolled": true
   },
   "outputs": [],
   "source": [
    "!python train_lg.py --rating --threshold 7.5"
   ]
  },
  {
   "cell_type": "code",
   "execution_count": null,
   "id": "b23ed6b1",
   "metadata": {
    "scrolled": true
   },
   "outputs": [],
   "source": [
    "!python train_lg.py --rating --threshold 8"
   ]
  },
  {
   "cell_type": "markdown",
   "id": "69a6f651",
   "metadata": {},
   "source": [
    "### popularity"
   ]
  },
  {
   "cell_type": "code",
   "execution_count": null,
   "id": "2a7891c9",
   "metadata": {
    "scrolled": true
   },
   "outputs": [],
   "source": [
    "!python train_lg.py --popularity --threshold 10"
   ]
  },
  {
   "cell_type": "code",
   "execution_count": null,
   "id": "98d4f243",
   "metadata": {
    "scrolled": true
   },
   "outputs": [],
   "source": [
    "!python train_lg.py --popularity --threshold 15"
   ]
  },
  {
   "cell_type": "code",
   "execution_count": null,
   "id": "99369d5c",
   "metadata": {
    "scrolled": true
   },
   "outputs": [],
   "source": [
    "!python train_lg.py --popularity --threshold 20"
   ]
  },
  {
   "cell_type": "code",
   "execution_count": null,
   "id": "99adcd79",
   "metadata": {
    "scrolled": true
   },
   "outputs": [],
   "source": [
    "!python train_lg.py --popularity --threshold 25"
   ]
  },
  {
   "cell_type": "code",
   "execution_count": null,
   "id": "3d181e54",
   "metadata": {
    "scrolled": true
   },
   "outputs": [],
   "source": [
    "!python train_lg.py --popularity --threshold 30"
   ]
  },
  {
   "cell_type": "code",
   "execution_count": null,
   "id": "7bbb7e2a",
   "metadata": {
    "scrolled": true
   },
   "outputs": [],
   "source": [
    "!python train_lg.py --popularity --threshold 35"
   ]
  },
  {
   "cell_type": "markdown",
   "id": "340e5a50",
   "metadata": {},
   "source": [
    "## NN"
   ]
  },
  {
   "cell_type": "code",
   "execution_count": null,
   "id": "1409f08b",
   "metadata": {
    "scrolled": true
   },
   "outputs": [],
   "source": [
    "!python train_nn.py --rating"
   ]
  },
  {
   "cell_type": "code",
   "execution_count": null,
   "id": "3b8abec6",
   "metadata": {
    "scrolled": true
   },
   "outputs": [],
   "source": [
    "!python train_nn.py --popularity"
   ]
  },
  {
   "cell_type": "markdown",
   "id": "37d2420d",
   "metadata": {},
   "source": [
    "# before = 0.3 after = 1"
   ]
  },
  {
   "cell_type": "code",
   "execution_count": null,
   "id": "1616e503",
   "metadata": {
    "scrolled": true
   },
   "outputs": [],
   "source": [
    "!python load_data.py --before 0.3 --after 1"
   ]
  },
  {
   "cell_type": "markdown",
   "id": "dd89d4a2",
   "metadata": {},
   "source": [
    "## LG"
   ]
  },
  {
   "cell_type": "markdown",
   "id": "61b00b5c",
   "metadata": {},
   "source": [
    "### rating"
   ]
  },
  {
   "cell_type": "code",
   "execution_count": null,
   "id": "fa06d3ab",
   "metadata": {
    "scrolled": true
   },
   "outputs": [],
   "source": [
    "!python train_lg.py --rating --threshold 5"
   ]
  },
  {
   "cell_type": "code",
   "execution_count": null,
   "id": "0c153e05",
   "metadata": {
    "scrolled": true
   },
   "outputs": [],
   "source": [
    "!python train_lg.py --rating --threshold 5.5"
   ]
  },
  {
   "cell_type": "code",
   "execution_count": null,
   "id": "7eeea00b",
   "metadata": {
    "scrolled": true
   },
   "outputs": [],
   "source": [
    "!python train_lg.py --rating --threshold 6"
   ]
  },
  {
   "cell_type": "code",
   "execution_count": null,
   "id": "725a9dd2",
   "metadata": {
    "scrolled": true
   },
   "outputs": [],
   "source": [
    "!python train_lg.py --rating --threshold 6.5"
   ]
  },
  {
   "cell_type": "code",
   "execution_count": null,
   "id": "59d1d4b0",
   "metadata": {
    "scrolled": true
   },
   "outputs": [],
   "source": [
    "!python train_lg.py --rating --threshold 7"
   ]
  },
  {
   "cell_type": "code",
   "execution_count": null,
   "id": "46acd4ac",
   "metadata": {
    "scrolled": true
   },
   "outputs": [],
   "source": [
    "!python train_lg.py --rating --threshold 7.5"
   ]
  },
  {
   "cell_type": "code",
   "execution_count": null,
   "id": "cb72f368",
   "metadata": {
    "scrolled": true
   },
   "outputs": [],
   "source": [
    "!python train_lg.py --rating --threshold 8"
   ]
  },
  {
   "cell_type": "markdown",
   "id": "36dbd1ab",
   "metadata": {},
   "source": [
    "### popularity"
   ]
  },
  {
   "cell_type": "code",
   "execution_count": null,
   "id": "3f658c76",
   "metadata": {
    "scrolled": true
   },
   "outputs": [],
   "source": [
    "!python train_lg.py --popularity --threshold 10"
   ]
  },
  {
   "cell_type": "code",
   "execution_count": null,
   "id": "d5f7ca80",
   "metadata": {
    "scrolled": true
   },
   "outputs": [],
   "source": [
    "!python train_lg.py --popularity --threshold 15"
   ]
  },
  {
   "cell_type": "code",
   "execution_count": null,
   "id": "c92e497e",
   "metadata": {
    "scrolled": true
   },
   "outputs": [],
   "source": [
    "!python train_lg.py --popularity --threshold 20"
   ]
  },
  {
   "cell_type": "code",
   "execution_count": null,
   "id": "7d54d477",
   "metadata": {
    "scrolled": true
   },
   "outputs": [],
   "source": [
    "!python train_lg.py --popularity --threshold 25"
   ]
  },
  {
   "cell_type": "code",
   "execution_count": null,
   "id": "c4d4d631",
   "metadata": {
    "scrolled": true
   },
   "outputs": [],
   "source": [
    "!python train_lg.py --popularity --threshold 30"
   ]
  },
  {
   "cell_type": "code",
   "execution_count": null,
   "id": "50b34505",
   "metadata": {
    "scrolled": true
   },
   "outputs": [],
   "source": [
    "!python train_lg.py --popularity --threshold 35"
   ]
  },
  {
   "cell_type": "markdown",
   "id": "c9758456",
   "metadata": {},
   "source": [
    "## NN"
   ]
  },
  {
   "cell_type": "code",
   "execution_count": null,
   "id": "c66a96ba",
   "metadata": {
    "scrolled": true
   },
   "outputs": [],
   "source": [
    "!python train_nn.py --rating"
   ]
  },
  {
   "cell_type": "code",
   "execution_count": null,
   "id": "92b4b2d7",
   "metadata": {
    "scrolled": true
   },
   "outputs": [],
   "source": [
    "!python train_nn.py --popularity"
   ]
  },
  {
   "cell_type": "markdown",
   "id": "1962948d",
   "metadata": {},
   "source": [
    "# before = 0.2 after = 1"
   ]
  },
  {
   "cell_type": "code",
   "execution_count": null,
   "id": "697e7190",
   "metadata": {
    "scrolled": true
   },
   "outputs": [],
   "source": [
    "!python load_data.py --before 0.2 --after 1"
   ]
  },
  {
   "cell_type": "markdown",
   "id": "0b6e3689",
   "metadata": {},
   "source": [
    "## LG"
   ]
  },
  {
   "cell_type": "markdown",
   "id": "cb9c412e",
   "metadata": {},
   "source": [
    "### rating"
   ]
  },
  {
   "cell_type": "code",
   "execution_count": null,
   "id": "99ca43c8",
   "metadata": {
    "scrolled": true
   },
   "outputs": [],
   "source": [
    "!python train_lg.py --rating --threshold 5"
   ]
  },
  {
   "cell_type": "code",
   "execution_count": null,
   "id": "93209b42",
   "metadata": {
    "scrolled": true
   },
   "outputs": [],
   "source": [
    "!python train_lg.py --rating --threshold 5.5"
   ]
  },
  {
   "cell_type": "code",
   "execution_count": null,
   "id": "f809bf33",
   "metadata": {
    "scrolled": true
   },
   "outputs": [],
   "source": [
    "!python train_lg.py --rating --threshold 6"
   ]
  },
  {
   "cell_type": "code",
   "execution_count": null,
   "id": "dacf219a",
   "metadata": {
    "scrolled": true
   },
   "outputs": [],
   "source": [
    "!python train_lg.py --rating --threshold 6.5"
   ]
  },
  {
   "cell_type": "code",
   "execution_count": null,
   "id": "e31c891a",
   "metadata": {
    "scrolled": true
   },
   "outputs": [],
   "source": [
    "!python train_lg.py --rating --threshold 7"
   ]
  },
  {
   "cell_type": "code",
   "execution_count": null,
   "id": "44fa056b",
   "metadata": {
    "scrolled": true
   },
   "outputs": [],
   "source": [
    "!python train_lg.py --rating --threshold 7.5"
   ]
  },
  {
   "cell_type": "code",
   "execution_count": null,
   "id": "8771b373",
   "metadata": {
    "scrolled": true
   },
   "outputs": [],
   "source": [
    "!python train_lg.py --rating --threshold 8"
   ]
  },
  {
   "cell_type": "markdown",
   "id": "13591783",
   "metadata": {},
   "source": [
    "### popularity"
   ]
  },
  {
   "cell_type": "code",
   "execution_count": null,
   "id": "6624645c",
   "metadata": {
    "scrolled": true
   },
   "outputs": [],
   "source": [
    "!python train_lg.py --popularity --threshold 10"
   ]
  },
  {
   "cell_type": "code",
   "execution_count": null,
   "id": "389d0140",
   "metadata": {
    "scrolled": true
   },
   "outputs": [],
   "source": [
    "!python train_lg.py --popularity --threshold 15"
   ]
  },
  {
   "cell_type": "code",
   "execution_count": null,
   "id": "37d29230",
   "metadata": {
    "scrolled": true
   },
   "outputs": [],
   "source": [
    "!python train_lg.py --popularity --threshold 20"
   ]
  },
  {
   "cell_type": "code",
   "execution_count": null,
   "id": "a9d8668e",
   "metadata": {
    "scrolled": true
   },
   "outputs": [],
   "source": [
    "!python train_lg.py --popularity --threshold 25"
   ]
  },
  {
   "cell_type": "code",
   "execution_count": null,
   "id": "e29f8855",
   "metadata": {
    "scrolled": true
   },
   "outputs": [],
   "source": [
    "!python train_lg.py --popularity --threshold 30"
   ]
  },
  {
   "cell_type": "code",
   "execution_count": null,
   "id": "0f7a9b0b",
   "metadata": {
    "scrolled": true
   },
   "outputs": [],
   "source": [
    "!python train_lg.py --popularity --threshold 35"
   ]
  },
  {
   "cell_type": "markdown",
   "id": "f13cdd40",
   "metadata": {},
   "source": [
    "## NN"
   ]
  },
  {
   "cell_type": "code",
   "execution_count": null,
   "id": "88fb1188",
   "metadata": {
    "scrolled": true
   },
   "outputs": [],
   "source": [
    "!python train_nn.py --rating"
   ]
  },
  {
   "cell_type": "code",
   "execution_count": null,
   "id": "b0ecca34",
   "metadata": {
    "scrolled": true
   },
   "outputs": [],
   "source": [
    "!python train_nn.py --popularity"
   ]
  },
  {
   "cell_type": "markdown",
   "id": "4fdb2dad",
   "metadata": {},
   "source": [
    "# before = 0.1 after = 1"
   ]
  },
  {
   "cell_type": "code",
   "execution_count": null,
   "id": "add13cb5",
   "metadata": {
    "scrolled": true
   },
   "outputs": [],
   "source": [
    "!python load_data.py --before 0.1 --after 1"
   ]
  },
  {
   "cell_type": "markdown",
   "id": "0450da3a",
   "metadata": {},
   "source": [
    "## LG"
   ]
  },
  {
   "cell_type": "markdown",
   "id": "cbaa60fe",
   "metadata": {},
   "source": [
    "### rating"
   ]
  },
  {
   "cell_type": "code",
   "execution_count": null,
   "id": "1316aa89",
   "metadata": {
    "scrolled": true
   },
   "outputs": [],
   "source": [
    "!python train_lg.py --rating --threshold 5"
   ]
  },
  {
   "cell_type": "code",
   "execution_count": null,
   "id": "c46176df",
   "metadata": {
    "scrolled": true
   },
   "outputs": [],
   "source": [
    "!python train_lg.py --rating --threshold 5.5"
   ]
  },
  {
   "cell_type": "code",
   "execution_count": null,
   "id": "32d51633",
   "metadata": {
    "scrolled": true
   },
   "outputs": [],
   "source": [
    "!python train_lg.py --rating --threshold 6"
   ]
  },
  {
   "cell_type": "code",
   "execution_count": null,
   "id": "0d9ea3cd",
   "metadata": {
    "scrolled": true
   },
   "outputs": [],
   "source": [
    "!python train_lg.py --rating --threshold 6.5"
   ]
  },
  {
   "cell_type": "code",
   "execution_count": null,
   "id": "b38f1083",
   "metadata": {
    "scrolled": true
   },
   "outputs": [],
   "source": [
    "!python train_lg.py --rating --threshold 7"
   ]
  },
  {
   "cell_type": "code",
   "execution_count": null,
   "id": "bde04e69",
   "metadata": {
    "scrolled": true
   },
   "outputs": [],
   "source": [
    "!python train_lg.py --rating --threshold 7.5"
   ]
  },
  {
   "cell_type": "code",
   "execution_count": null,
   "id": "d13b1ce9",
   "metadata": {
    "scrolled": true
   },
   "outputs": [],
   "source": [
    "!python train_lg.py --rating --threshold 8"
   ]
  },
  {
   "cell_type": "markdown",
   "id": "9e8ec5f0",
   "metadata": {},
   "source": [
    "### popularity"
   ]
  },
  {
   "cell_type": "code",
   "execution_count": null,
   "id": "0d4ac691",
   "metadata": {
    "scrolled": true
   },
   "outputs": [],
   "source": [
    "!python train_lg.py --popularity --threshold 10"
   ]
  },
  {
   "cell_type": "code",
   "execution_count": null,
   "id": "fd560f64",
   "metadata": {
    "scrolled": true
   },
   "outputs": [],
   "source": [
    "!python train_lg.py --popularity --threshold 15"
   ]
  },
  {
   "cell_type": "code",
   "execution_count": null,
   "id": "f4088a7f",
   "metadata": {
    "scrolled": true
   },
   "outputs": [],
   "source": [
    "!python train_lg.py --popularity --threshold 20"
   ]
  },
  {
   "cell_type": "code",
   "execution_count": null,
   "id": "8206e0e4",
   "metadata": {
    "scrolled": true
   },
   "outputs": [],
   "source": [
    "!python train_lg.py --popularity --threshold 25"
   ]
  },
  {
   "cell_type": "code",
   "execution_count": null,
   "id": "c12e8b8b",
   "metadata": {
    "scrolled": true
   },
   "outputs": [],
   "source": [
    "!python train_lg.py --popularity --threshold 30"
   ]
  },
  {
   "cell_type": "code",
   "execution_count": null,
   "id": "f3c2fce2",
   "metadata": {
    "scrolled": true
   },
   "outputs": [],
   "source": [
    "!python train_lg.py --popularity --threshold 35"
   ]
  },
  {
   "cell_type": "markdown",
   "id": "9b00403c",
   "metadata": {},
   "source": [
    "## NN"
   ]
  },
  {
   "cell_type": "code",
   "execution_count": null,
   "id": "ec471df1",
   "metadata": {
    "scrolled": true
   },
   "outputs": [],
   "source": [
    "!python train_nn.py --rating"
   ]
  },
  {
   "cell_type": "code",
   "execution_count": null,
   "id": "af575edd",
   "metadata": {
    "scrolled": true
   },
   "outputs": [],
   "source": [
    "!python train_nn.py --popularity"
   ]
  },
  {
   "cell_type": "markdown",
   "id": "0dda3e41",
   "metadata": {},
   "source": [
    "# before = 0 after = 1"
   ]
  },
  {
   "cell_type": "code",
   "execution_count": null,
   "id": "ccb6450d",
   "metadata": {
    "scrolled": true
   },
   "outputs": [],
   "source": [
    "!python load_data.py --before 0 --after 1"
   ]
  },
  {
   "cell_type": "markdown",
   "id": "dffcc081",
   "metadata": {},
   "source": [
    "## LG"
   ]
  },
  {
   "cell_type": "markdown",
   "id": "1be0ee2d",
   "metadata": {},
   "source": [
    "### rating"
   ]
  },
  {
   "cell_type": "code",
   "execution_count": null,
   "id": "6cadf830",
   "metadata": {
    "scrolled": true
   },
   "outputs": [],
   "source": [
    "!python train_lg.py --rating --threshold 5"
   ]
  },
  {
   "cell_type": "code",
   "execution_count": null,
   "id": "d43e7ba8",
   "metadata": {
    "scrolled": true
   },
   "outputs": [],
   "source": [
    "!python train_lg.py --rating --threshold 5.5"
   ]
  },
  {
   "cell_type": "code",
   "execution_count": null,
   "id": "48f3e3d2",
   "metadata": {
    "scrolled": true
   },
   "outputs": [],
   "source": [
    "!python train_lg.py --rating --threshold 6"
   ]
  },
  {
   "cell_type": "code",
   "execution_count": null,
   "id": "18519363",
   "metadata": {
    "scrolled": true
   },
   "outputs": [],
   "source": [
    "!python train_lg.py --rating --threshold 6.5"
   ]
  },
  {
   "cell_type": "code",
   "execution_count": null,
   "id": "8704dad6",
   "metadata": {
    "scrolled": true
   },
   "outputs": [],
   "source": [
    "!python train_lg.py --rating --threshold 7"
   ]
  },
  {
   "cell_type": "code",
   "execution_count": null,
   "id": "000c6751",
   "metadata": {
    "scrolled": true
   },
   "outputs": [],
   "source": [
    "!python train_lg.py --rating --threshold 7.5"
   ]
  },
  {
   "cell_type": "code",
   "execution_count": null,
   "id": "5c3a0b40",
   "metadata": {
    "scrolled": true
   },
   "outputs": [],
   "source": [
    "!python train_lg.py --rating --threshold 8"
   ]
  },
  {
   "cell_type": "markdown",
   "id": "bc2c843b",
   "metadata": {},
   "source": [
    "### popularity"
   ]
  },
  {
   "cell_type": "code",
   "execution_count": null,
   "id": "ee8d63ea",
   "metadata": {
    "scrolled": true
   },
   "outputs": [],
   "source": [
    "!python train_lg.py --popularity --threshold 10"
   ]
  },
  {
   "cell_type": "code",
   "execution_count": null,
   "id": "2b233282",
   "metadata": {
    "scrolled": true
   },
   "outputs": [],
   "source": [
    "!python train_lg.py --popularity --threshold 15"
   ]
  },
  {
   "cell_type": "code",
   "execution_count": null,
   "id": "67e1053c",
   "metadata": {
    "scrolled": true
   },
   "outputs": [],
   "source": [
    "!python train_lg.py --popularity --threshold 20"
   ]
  },
  {
   "cell_type": "code",
   "execution_count": null,
   "id": "0b5836eb",
   "metadata": {
    "scrolled": true
   },
   "outputs": [],
   "source": [
    "!python train_lg.py --popularity --threshold 25"
   ]
  },
  {
   "cell_type": "code",
   "execution_count": null,
   "id": "3131edc9",
   "metadata": {
    "scrolled": true
   },
   "outputs": [],
   "source": [
    "!python train_lg.py --popularity --threshold 30"
   ]
  },
  {
   "cell_type": "code",
   "execution_count": null,
   "id": "b29cc93a",
   "metadata": {
    "scrolled": true
   },
   "outputs": [],
   "source": [
    "!python train_lg.py --popularity --threshold 35"
   ]
  },
  {
   "cell_type": "markdown",
   "id": "eb51b53f",
   "metadata": {},
   "source": [
    "## NN"
   ]
  },
  {
   "cell_type": "code",
   "execution_count": null,
   "id": "f0c295ad",
   "metadata": {
    "scrolled": true
   },
   "outputs": [],
   "source": [
    "!python train_nn.py --rating"
   ]
  },
  {
   "cell_type": "code",
   "execution_count": null,
   "id": "6106eb88",
   "metadata": {
    "scrolled": true
   },
   "outputs": [],
   "source": [
    "!python train_nn.py --popularity"
   ]
  },
  {
   "cell_type": "markdown",
   "id": "976a46d5",
   "metadata": {},
   "source": [
    "# before = 1, after = 0.9"
   ]
  },
  {
   "cell_type": "code",
   "execution_count": null,
   "id": "ff1e2a56",
   "metadata": {
    "scrolled": true
   },
   "outputs": [],
   "source": [
    "!python load_data.py --before 1 --after 0.9"
   ]
  },
  {
   "cell_type": "markdown",
   "id": "032af6fe",
   "metadata": {},
   "source": [
    "## LG"
   ]
  },
  {
   "cell_type": "markdown",
   "id": "8f7416f4",
   "metadata": {},
   "source": [
    "### rating"
   ]
  },
  {
   "cell_type": "code",
   "execution_count": null,
   "id": "0242cbbc",
   "metadata": {
    "scrolled": true
   },
   "outputs": [],
   "source": [
    "!python train_lg.py --rating --threshold 5"
   ]
  },
  {
   "cell_type": "code",
   "execution_count": null,
   "id": "d4fa4581",
   "metadata": {
    "scrolled": true
   },
   "outputs": [],
   "source": [
    "!python train_lg.py --rating --threshold 5.5"
   ]
  },
  {
   "cell_type": "code",
   "execution_count": null,
   "id": "8b767c4e",
   "metadata": {
    "scrolled": true
   },
   "outputs": [],
   "source": [
    "!python train_lg.py --rating --threshold 6"
   ]
  },
  {
   "cell_type": "code",
   "execution_count": null,
   "id": "f84bacea",
   "metadata": {
    "scrolled": true
   },
   "outputs": [],
   "source": [
    "!python train_lg.py --rating --threshold 6.5"
   ]
  },
  {
   "cell_type": "code",
   "execution_count": null,
   "id": "03281541",
   "metadata": {
    "scrolled": true
   },
   "outputs": [],
   "source": [
    "!python train_lg.py --rating --threshold 7"
   ]
  },
  {
   "cell_type": "code",
   "execution_count": null,
   "id": "57881551",
   "metadata": {
    "scrolled": true
   },
   "outputs": [],
   "source": [
    "!python train_lg.py --rating --threshold 7.5"
   ]
  },
  {
   "cell_type": "code",
   "execution_count": null,
   "id": "cc24cfa5",
   "metadata": {
    "scrolled": true
   },
   "outputs": [],
   "source": [
    "!python train_lg.py --rating --threshold 8"
   ]
  },
  {
   "cell_type": "markdown",
   "id": "97d9c43e",
   "metadata": {},
   "source": [
    "### popularity"
   ]
  },
  {
   "cell_type": "code",
   "execution_count": null,
   "id": "24a60538",
   "metadata": {
    "scrolled": true
   },
   "outputs": [],
   "source": [
    "!python train_lg.py --popularity --threshold 10"
   ]
  },
  {
   "cell_type": "code",
   "execution_count": null,
   "id": "b7d1680b",
   "metadata": {
    "scrolled": true
   },
   "outputs": [],
   "source": [
    "!python train_lg.py --popularity --threshold 15"
   ]
  },
  {
   "cell_type": "code",
   "execution_count": null,
   "id": "3fc8961d",
   "metadata": {
    "scrolled": true
   },
   "outputs": [],
   "source": [
    "!python train_lg.py --popularity --threshold 20"
   ]
  },
  {
   "cell_type": "code",
   "execution_count": null,
   "id": "d1806717",
   "metadata": {
    "scrolled": true
   },
   "outputs": [],
   "source": [
    "!python train_lg.py --popularity --threshold 25"
   ]
  },
  {
   "cell_type": "code",
   "execution_count": null,
   "id": "d12fb46e",
   "metadata": {
    "scrolled": true
   },
   "outputs": [],
   "source": [
    "!python train_lg.py --popularity --threshold 30"
   ]
  },
  {
   "cell_type": "code",
   "execution_count": null,
   "id": "64b1a3b7",
   "metadata": {
    "scrolled": true
   },
   "outputs": [],
   "source": [
    "!python train_lg.py --popularity --threshold 35"
   ]
  },
  {
   "cell_type": "markdown",
   "id": "688fd3b3",
   "metadata": {},
   "source": [
    "## NN"
   ]
  },
  {
   "cell_type": "code",
   "execution_count": null,
   "id": "65792c35",
   "metadata": {
    "scrolled": true
   },
   "outputs": [],
   "source": [
    "!python train_nn.py --rating"
   ]
  },
  {
   "cell_type": "code",
   "execution_count": null,
   "id": "fdf80ae1",
   "metadata": {
    "scrolled": true
   },
   "outputs": [],
   "source": [
    "!python train_nn.py --popularity"
   ]
  },
  {
   "cell_type": "markdown",
   "id": "6ea7acba",
   "metadata": {},
   "source": [
    "# before = 1, after = 0.8"
   ]
  },
  {
   "cell_type": "code",
   "execution_count": null,
   "id": "a9eb3b58",
   "metadata": {
    "scrolled": true
   },
   "outputs": [],
   "source": [
    "!python load_data.py --before 1 --after 0.8"
   ]
  },
  {
   "cell_type": "markdown",
   "id": "4c932945",
   "metadata": {},
   "source": [
    "## LG"
   ]
  },
  {
   "cell_type": "markdown",
   "id": "8f7746d4",
   "metadata": {},
   "source": [
    "### rating"
   ]
  },
  {
   "cell_type": "code",
   "execution_count": null,
   "id": "c61d7179",
   "metadata": {
    "scrolled": true
   },
   "outputs": [],
   "source": [
    "!python train_lg.py --rating --threshold 5"
   ]
  },
  {
   "cell_type": "code",
   "execution_count": null,
   "id": "45b2f9c7",
   "metadata": {
    "scrolled": true
   },
   "outputs": [],
   "source": [
    "!python train_lg.py --rating --threshold 5.5"
   ]
  },
  {
   "cell_type": "code",
   "execution_count": null,
   "id": "80b6247c",
   "metadata": {
    "scrolled": true
   },
   "outputs": [],
   "source": [
    "!python train_lg.py --rating --threshold 6"
   ]
  },
  {
   "cell_type": "code",
   "execution_count": null,
   "id": "cae983a3",
   "metadata": {
    "scrolled": true
   },
   "outputs": [],
   "source": [
    "!python train_lg.py --rating --threshold 6.5"
   ]
  },
  {
   "cell_type": "code",
   "execution_count": null,
   "id": "202cd260",
   "metadata": {
    "scrolled": true
   },
   "outputs": [],
   "source": [
    "!python train_lg.py --rating --threshold 7"
   ]
  },
  {
   "cell_type": "code",
   "execution_count": null,
   "id": "c0c10d81",
   "metadata": {
    "scrolled": true
   },
   "outputs": [],
   "source": [
    "!python train_lg.py --rating --threshold 7.5"
   ]
  },
  {
   "cell_type": "code",
   "execution_count": null,
   "id": "402711ad",
   "metadata": {
    "scrolled": true
   },
   "outputs": [],
   "source": [
    "!python train_lg.py --rating --threshold 8"
   ]
  },
  {
   "cell_type": "markdown",
   "id": "5808f59b",
   "metadata": {},
   "source": [
    "### popularity"
   ]
  },
  {
   "cell_type": "code",
   "execution_count": null,
   "id": "8adcc1c5",
   "metadata": {
    "scrolled": true
   },
   "outputs": [],
   "source": [
    "!python train_lg.py --popularity --threshold 10"
   ]
  },
  {
   "cell_type": "code",
   "execution_count": null,
   "id": "ab067da0",
   "metadata": {
    "scrolled": true
   },
   "outputs": [],
   "source": [
    "!python train_lg.py --popularity --threshold 15"
   ]
  },
  {
   "cell_type": "code",
   "execution_count": null,
   "id": "c1e366e2",
   "metadata": {
    "scrolled": true
   },
   "outputs": [],
   "source": [
    "!python train_lg.py --popularity --threshold 20"
   ]
  },
  {
   "cell_type": "code",
   "execution_count": null,
   "id": "94df48d7",
   "metadata": {
    "scrolled": true
   },
   "outputs": [],
   "source": [
    "!python train_lg.py --popularity --threshold 25"
   ]
  },
  {
   "cell_type": "code",
   "execution_count": null,
   "id": "3d30e192",
   "metadata": {
    "scrolled": true
   },
   "outputs": [],
   "source": [
    "!python train_lg.py --popularity --threshold 30"
   ]
  },
  {
   "cell_type": "code",
   "execution_count": null,
   "id": "1cf6e6e7",
   "metadata": {
    "scrolled": true
   },
   "outputs": [],
   "source": [
    "!python train_lg.py --popularity --threshold 35"
   ]
  },
  {
   "cell_type": "markdown",
   "id": "510d128a",
   "metadata": {},
   "source": [
    "## NN"
   ]
  },
  {
   "cell_type": "code",
   "execution_count": null,
   "id": "9408ed5b",
   "metadata": {
    "scrolled": true
   },
   "outputs": [],
   "source": [
    "!python train_nn.py --rating"
   ]
  },
  {
   "cell_type": "code",
   "execution_count": null,
   "id": "ca6503e5",
   "metadata": {
    "scrolled": true
   },
   "outputs": [],
   "source": [
    "!python train_nn.py --popularity"
   ]
  },
  {
   "cell_type": "markdown",
   "id": "7c4599a9",
   "metadata": {},
   "source": [
    "# before = 1, after = 0.7"
   ]
  },
  {
   "cell_type": "code",
   "execution_count": null,
   "id": "88a0d0c9",
   "metadata": {
    "scrolled": true
   },
   "outputs": [],
   "source": [
    "!python load_data.py --before 1 --after 0.7"
   ]
  },
  {
   "cell_type": "markdown",
   "id": "faf8b40f",
   "metadata": {},
   "source": [
    "## LG"
   ]
  },
  {
   "cell_type": "markdown",
   "id": "b91fce8e",
   "metadata": {},
   "source": [
    "### rating"
   ]
  },
  {
   "cell_type": "code",
   "execution_count": null,
   "id": "160b3d0e",
   "metadata": {
    "scrolled": true
   },
   "outputs": [],
   "source": [
    "!python train_lg.py --rating --threshold 5"
   ]
  },
  {
   "cell_type": "code",
   "execution_count": null,
   "id": "41f8d925",
   "metadata": {
    "scrolled": true
   },
   "outputs": [],
   "source": [
    "!python train_lg.py --rating --threshold 5.5"
   ]
  },
  {
   "cell_type": "code",
   "execution_count": null,
   "id": "7e5195a0",
   "metadata": {
    "scrolled": true
   },
   "outputs": [],
   "source": [
    "!python train_lg.py --rating --threshold 6"
   ]
  },
  {
   "cell_type": "code",
   "execution_count": null,
   "id": "c8ed5e04",
   "metadata": {
    "scrolled": true
   },
   "outputs": [],
   "source": [
    "!python train_lg.py --rating --threshold 6.5"
   ]
  },
  {
   "cell_type": "code",
   "execution_count": null,
   "id": "c269332d",
   "metadata": {
    "scrolled": true
   },
   "outputs": [],
   "source": [
    "!python train_lg.py --rating --threshold 7"
   ]
  },
  {
   "cell_type": "code",
   "execution_count": null,
   "id": "181e6ec9",
   "metadata": {
    "scrolled": true
   },
   "outputs": [],
   "source": [
    "!python train_lg.py --rating --threshold 7.5"
   ]
  },
  {
   "cell_type": "code",
   "execution_count": null,
   "id": "c69097b1",
   "metadata": {
    "scrolled": true
   },
   "outputs": [],
   "source": [
    "!python train_lg.py --rating --threshold 8"
   ]
  },
  {
   "cell_type": "markdown",
   "id": "a3e62640",
   "metadata": {},
   "source": [
    "### popularity"
   ]
  },
  {
   "cell_type": "code",
   "execution_count": null,
   "id": "31ab07fa",
   "metadata": {
    "scrolled": true
   },
   "outputs": [],
   "source": [
    "!python train_lg.py --popularity --threshold 10"
   ]
  },
  {
   "cell_type": "code",
   "execution_count": null,
   "id": "21d0499a",
   "metadata": {
    "scrolled": true
   },
   "outputs": [],
   "source": [
    "!python train_lg.py --popularity --threshold 15"
   ]
  },
  {
   "cell_type": "code",
   "execution_count": null,
   "id": "72be31ac",
   "metadata": {
    "scrolled": true
   },
   "outputs": [],
   "source": [
    "!python train_lg.py --popularity --threshold 20"
   ]
  },
  {
   "cell_type": "code",
   "execution_count": null,
   "id": "9485756e",
   "metadata": {
    "scrolled": true
   },
   "outputs": [],
   "source": [
    "!python train_lg.py --popularity --threshold 25"
   ]
  },
  {
   "cell_type": "code",
   "execution_count": null,
   "id": "cb20352d",
   "metadata": {
    "scrolled": true
   },
   "outputs": [],
   "source": [
    "!python train_lg.py --popularity --threshold 30"
   ]
  },
  {
   "cell_type": "code",
   "execution_count": null,
   "id": "44f01596",
   "metadata": {
    "scrolled": true
   },
   "outputs": [],
   "source": [
    "!python train_lg.py --popularity --threshold 35"
   ]
  },
  {
   "cell_type": "markdown",
   "id": "cff1d9b7",
   "metadata": {},
   "source": [
    "## NN"
   ]
  },
  {
   "cell_type": "code",
   "execution_count": null,
   "id": "fca9dad4",
   "metadata": {
    "scrolled": true
   },
   "outputs": [],
   "source": [
    "!python train_nn.py --rating"
   ]
  },
  {
   "cell_type": "code",
   "execution_count": null,
   "id": "0d0ea16e",
   "metadata": {
    "scrolled": true
   },
   "outputs": [],
   "source": [
    "!python train_nn.py --popularity"
   ]
  },
  {
   "cell_type": "markdown",
   "id": "1196efd4",
   "metadata": {},
   "source": [
    "# before = 1, after = 0.6"
   ]
  },
  {
   "cell_type": "code",
   "execution_count": null,
   "id": "5c781d6d",
   "metadata": {
    "scrolled": true
   },
   "outputs": [],
   "source": [
    "!python load_data.py --before 1 --after 0.6"
   ]
  },
  {
   "cell_type": "markdown",
   "id": "45fff8e3",
   "metadata": {},
   "source": [
    "## LG"
   ]
  },
  {
   "cell_type": "markdown",
   "id": "bacb6305",
   "metadata": {},
   "source": [
    "### rating"
   ]
  },
  {
   "cell_type": "code",
   "execution_count": null,
   "id": "82d125bc",
   "metadata": {
    "scrolled": true
   },
   "outputs": [],
   "source": [
    "!python train_lg.py --rating --threshold 5"
   ]
  },
  {
   "cell_type": "code",
   "execution_count": null,
   "id": "0ee2e294",
   "metadata": {
    "scrolled": true
   },
   "outputs": [],
   "source": [
    "!python train_lg.py --rating --threshold 5.5"
   ]
  },
  {
   "cell_type": "code",
   "execution_count": null,
   "id": "61f70204",
   "metadata": {
    "scrolled": true
   },
   "outputs": [],
   "source": [
    "!python train_lg.py --rating --threshold 6"
   ]
  },
  {
   "cell_type": "code",
   "execution_count": null,
   "id": "be9542d9",
   "metadata": {
    "scrolled": true
   },
   "outputs": [],
   "source": [
    "!python train_lg.py --rating --threshold 6.5"
   ]
  },
  {
   "cell_type": "code",
   "execution_count": null,
   "id": "1167a758",
   "metadata": {
    "scrolled": true
   },
   "outputs": [],
   "source": [
    "!python train_lg.py --rating --threshold 7"
   ]
  },
  {
   "cell_type": "code",
   "execution_count": null,
   "id": "e36a56ce",
   "metadata": {
    "scrolled": true
   },
   "outputs": [],
   "source": [
    "!python train_lg.py --rating --threshold 7.5"
   ]
  },
  {
   "cell_type": "code",
   "execution_count": null,
   "id": "7e844c43",
   "metadata": {
    "scrolled": true
   },
   "outputs": [],
   "source": [
    "!python train_lg.py --rating --threshold 8"
   ]
  },
  {
   "cell_type": "markdown",
   "id": "3837e2a5",
   "metadata": {},
   "source": [
    "### popularity"
   ]
  },
  {
   "cell_type": "code",
   "execution_count": null,
   "id": "2b5c42c9",
   "metadata": {
    "scrolled": true
   },
   "outputs": [],
   "source": [
    "!python train_lg.py --popularity --threshold 10"
   ]
  },
  {
   "cell_type": "code",
   "execution_count": null,
   "id": "7929fb75",
   "metadata": {
    "scrolled": true
   },
   "outputs": [],
   "source": [
    "!python train_lg.py --popularity --threshold 15"
   ]
  },
  {
   "cell_type": "code",
   "execution_count": null,
   "id": "60175a46",
   "metadata": {
    "scrolled": true
   },
   "outputs": [],
   "source": [
    "!python train_lg.py --popularity --threshold 20"
   ]
  },
  {
   "cell_type": "code",
   "execution_count": null,
   "id": "9c72b55c",
   "metadata": {
    "scrolled": true
   },
   "outputs": [],
   "source": [
    "!python train_lg.py --popularity --threshold 25"
   ]
  },
  {
   "cell_type": "code",
   "execution_count": null,
   "id": "f3b410f4",
   "metadata": {
    "scrolled": true
   },
   "outputs": [],
   "source": [
    "!python train_lg.py --popularity --threshold 30"
   ]
  },
  {
   "cell_type": "code",
   "execution_count": null,
   "id": "9cbce302",
   "metadata": {
    "scrolled": true
   },
   "outputs": [],
   "source": [
    "!python train_lg.py --popularity --threshold 35"
   ]
  },
  {
   "cell_type": "markdown",
   "id": "99915c4b",
   "metadata": {},
   "source": [
    "## NN"
   ]
  },
  {
   "cell_type": "code",
   "execution_count": null,
   "id": "cfafc8ff",
   "metadata": {
    "scrolled": true
   },
   "outputs": [],
   "source": [
    "!python train_nn.py --rating"
   ]
  },
  {
   "cell_type": "code",
   "execution_count": null,
   "id": "a48bea8b",
   "metadata": {
    "scrolled": true
   },
   "outputs": [],
   "source": [
    "!python train_nn.py --popularity"
   ]
  },
  {
   "cell_type": "markdown",
   "id": "f9d99dfe",
   "metadata": {},
   "source": [
    "# before = 1, after = 0.5"
   ]
  },
  {
   "cell_type": "code",
   "execution_count": null,
   "id": "d2271cdf",
   "metadata": {
    "scrolled": true
   },
   "outputs": [],
   "source": [
    "!python load_data.py --before 1 --after 0.5"
   ]
  },
  {
   "cell_type": "markdown",
   "id": "682df90c",
   "metadata": {},
   "source": [
    "## LG"
   ]
  },
  {
   "cell_type": "markdown",
   "id": "e280ef52",
   "metadata": {},
   "source": [
    "### rating"
   ]
  },
  {
   "cell_type": "code",
   "execution_count": null,
   "id": "83eead92",
   "metadata": {
    "scrolled": true
   },
   "outputs": [],
   "source": [
    "!python train_lg.py --rating --threshold 5"
   ]
  },
  {
   "cell_type": "code",
   "execution_count": null,
   "id": "fc5af3d3",
   "metadata": {
    "scrolled": true
   },
   "outputs": [],
   "source": [
    "!python train_lg.py --rating --threshold 5.5"
   ]
  },
  {
   "cell_type": "code",
   "execution_count": null,
   "id": "07a67fa1",
   "metadata": {
    "scrolled": true
   },
   "outputs": [],
   "source": [
    "!python train_lg.py --rating --threshold 6"
   ]
  },
  {
   "cell_type": "code",
   "execution_count": null,
   "id": "0a4d4199",
   "metadata": {
    "scrolled": true
   },
   "outputs": [],
   "source": [
    "!python train_lg.py --rating --threshold 6.5"
   ]
  },
  {
   "cell_type": "code",
   "execution_count": null,
   "id": "a1b3b90e",
   "metadata": {
    "scrolled": true
   },
   "outputs": [],
   "source": [
    "!python train_lg.py --rating --threshold 7"
   ]
  },
  {
   "cell_type": "code",
   "execution_count": null,
   "id": "0c3d2a74",
   "metadata": {
    "scrolled": true
   },
   "outputs": [],
   "source": [
    "!python train_lg.py --rating --threshold 7.5"
   ]
  },
  {
   "cell_type": "code",
   "execution_count": null,
   "id": "ef5e9af9",
   "metadata": {
    "scrolled": true
   },
   "outputs": [],
   "source": [
    "!python train_lg.py --rating --threshold 8"
   ]
  },
  {
   "cell_type": "markdown",
   "id": "7a1b0a94",
   "metadata": {},
   "source": [
    "### popularity"
   ]
  },
  {
   "cell_type": "code",
   "execution_count": null,
   "id": "3aa83cd6",
   "metadata": {
    "scrolled": true
   },
   "outputs": [],
   "source": [
    "!python train_lg.py --popularity --threshold 10"
   ]
  },
  {
   "cell_type": "code",
   "execution_count": null,
   "id": "deec6052",
   "metadata": {
    "scrolled": true
   },
   "outputs": [],
   "source": [
    "!python train_lg.py --popularity --threshold 15"
   ]
  },
  {
   "cell_type": "code",
   "execution_count": null,
   "id": "bd8d36f8",
   "metadata": {
    "scrolled": true
   },
   "outputs": [],
   "source": [
    "!python train_lg.py --popularity --threshold 20"
   ]
  },
  {
   "cell_type": "code",
   "execution_count": null,
   "id": "e3140d47",
   "metadata": {
    "scrolled": true
   },
   "outputs": [],
   "source": [
    "!python train_lg.py --popularity --threshold 25"
   ]
  },
  {
   "cell_type": "code",
   "execution_count": null,
   "id": "30657b52",
   "metadata": {
    "scrolled": true
   },
   "outputs": [],
   "source": [
    "!python train_lg.py --popularity --threshold 30"
   ]
  },
  {
   "cell_type": "code",
   "execution_count": null,
   "id": "96481cfe",
   "metadata": {
    "scrolled": true
   },
   "outputs": [],
   "source": [
    "!python train_lg.py --popularity --threshold 35"
   ]
  },
  {
   "cell_type": "markdown",
   "id": "23e8f125",
   "metadata": {},
   "source": [
    "## NN"
   ]
  },
  {
   "cell_type": "code",
   "execution_count": null,
   "id": "2fefe26c",
   "metadata": {
    "scrolled": true
   },
   "outputs": [],
   "source": [
    "!python train_nn.py --rating"
   ]
  },
  {
   "cell_type": "code",
   "execution_count": null,
   "id": "e512d279",
   "metadata": {
    "scrolled": true
   },
   "outputs": [],
   "source": [
    "!python train_nn.py --popularity"
   ]
  },
  {
   "cell_type": "markdown",
   "id": "d6ab5646",
   "metadata": {},
   "source": [
    "# before = 1, after = 0.4"
   ]
  },
  {
   "cell_type": "code",
   "execution_count": null,
   "id": "2f5f9a3c",
   "metadata": {
    "scrolled": true
   },
   "outputs": [],
   "source": [
    "!python load_data.py --before 1 --after 0.4"
   ]
  },
  {
   "cell_type": "markdown",
   "id": "6a6d572a",
   "metadata": {},
   "source": [
    "## LG"
   ]
  },
  {
   "cell_type": "markdown",
   "id": "8014f4bf",
   "metadata": {},
   "source": [
    "### rating"
   ]
  },
  {
   "cell_type": "code",
   "execution_count": null,
   "id": "06cd2f6b",
   "metadata": {
    "scrolled": true
   },
   "outputs": [],
   "source": [
    "!python train_lg.py --rating --threshold 5"
   ]
  },
  {
   "cell_type": "code",
   "execution_count": null,
   "id": "4d54250e",
   "metadata": {
    "scrolled": true
   },
   "outputs": [],
   "source": [
    "!python train_lg.py --rating --threshold 5.5"
   ]
  },
  {
   "cell_type": "code",
   "execution_count": null,
   "id": "bcf0ed60",
   "metadata": {
    "scrolled": true
   },
   "outputs": [],
   "source": [
    "!python train_lg.py --rating --threshold 6"
   ]
  },
  {
   "cell_type": "code",
   "execution_count": null,
   "id": "0cc39217",
   "metadata": {
    "scrolled": true
   },
   "outputs": [],
   "source": [
    "!python train_lg.py --rating --threshold 6.5"
   ]
  },
  {
   "cell_type": "code",
   "execution_count": null,
   "id": "7742f65d",
   "metadata": {
    "scrolled": true
   },
   "outputs": [],
   "source": [
    "!python train_lg.py --rating --threshold 7"
   ]
  },
  {
   "cell_type": "code",
   "execution_count": null,
   "id": "2d381086",
   "metadata": {
    "scrolled": true
   },
   "outputs": [],
   "source": [
    "!python train_lg.py --rating --threshold 7.5"
   ]
  },
  {
   "cell_type": "code",
   "execution_count": null,
   "id": "ceab2159",
   "metadata": {
    "scrolled": true
   },
   "outputs": [],
   "source": [
    "!python train_lg.py --rating --threshold 8"
   ]
  },
  {
   "cell_type": "markdown",
   "id": "b8029908",
   "metadata": {},
   "source": [
    "### popularity"
   ]
  },
  {
   "cell_type": "code",
   "execution_count": null,
   "id": "9f2f4cd9",
   "metadata": {
    "scrolled": true
   },
   "outputs": [],
   "source": [
    "!python train_lg.py --popularity --threshold 10"
   ]
  },
  {
   "cell_type": "code",
   "execution_count": null,
   "id": "fff037db",
   "metadata": {
    "scrolled": true
   },
   "outputs": [],
   "source": [
    "!python train_lg.py --popularity --threshold 15"
   ]
  },
  {
   "cell_type": "code",
   "execution_count": null,
   "id": "8d903039",
   "metadata": {
    "scrolled": true
   },
   "outputs": [],
   "source": [
    "!python train_lg.py --popularity --threshold 20"
   ]
  },
  {
   "cell_type": "code",
   "execution_count": null,
   "id": "c24564e8",
   "metadata": {
    "scrolled": true
   },
   "outputs": [],
   "source": [
    "!python train_lg.py --popularity --threshold 25"
   ]
  },
  {
   "cell_type": "code",
   "execution_count": null,
   "id": "44048a92",
   "metadata": {
    "scrolled": true
   },
   "outputs": [],
   "source": [
    "!python train_lg.py --popularity --threshold 30"
   ]
  },
  {
   "cell_type": "code",
   "execution_count": null,
   "id": "a7b9ed41",
   "metadata": {
    "scrolled": true
   },
   "outputs": [],
   "source": [
    "!python train_lg.py --popularity --threshold 35"
   ]
  },
  {
   "cell_type": "markdown",
   "id": "490a440e",
   "metadata": {},
   "source": [
    "## NN"
   ]
  },
  {
   "cell_type": "code",
   "execution_count": null,
   "id": "6a2cc100",
   "metadata": {
    "scrolled": true
   },
   "outputs": [],
   "source": [
    "!python train_nn.py --rating"
   ]
  },
  {
   "cell_type": "code",
   "execution_count": null,
   "id": "31700d02",
   "metadata": {
    "scrolled": true
   },
   "outputs": [],
   "source": [
    "!python train_nn.py --popularity"
   ]
  },
  {
   "cell_type": "markdown",
   "id": "6ad7440f",
   "metadata": {},
   "source": [
    "# before = 1, after = 0.3"
   ]
  },
  {
   "cell_type": "code",
   "execution_count": null,
   "id": "ece7af23",
   "metadata": {
    "scrolled": true
   },
   "outputs": [],
   "source": [
    "!python load_data.py --before 1 --after 0.3"
   ]
  },
  {
   "cell_type": "markdown",
   "id": "b9c03727",
   "metadata": {},
   "source": [
    "## LG"
   ]
  },
  {
   "cell_type": "markdown",
   "id": "e149e4ca",
   "metadata": {},
   "source": [
    "### rating"
   ]
  },
  {
   "cell_type": "code",
   "execution_count": null,
   "id": "f10f06a3",
   "metadata": {
    "scrolled": true
   },
   "outputs": [],
   "source": [
    "!python train_lg.py --rating --threshold 5"
   ]
  },
  {
   "cell_type": "code",
   "execution_count": null,
   "id": "8d560fd7",
   "metadata": {
    "scrolled": true
   },
   "outputs": [],
   "source": [
    "!python train_lg.py --rating --threshold 5.5"
   ]
  },
  {
   "cell_type": "code",
   "execution_count": null,
   "id": "2815cf3a",
   "metadata": {
    "scrolled": true
   },
   "outputs": [],
   "source": [
    "!python train_lg.py --rating --threshold 6"
   ]
  },
  {
   "cell_type": "code",
   "execution_count": null,
   "id": "c95411e5",
   "metadata": {
    "scrolled": true
   },
   "outputs": [],
   "source": [
    "!python train_lg.py --rating --threshold 6.5"
   ]
  },
  {
   "cell_type": "code",
   "execution_count": null,
   "id": "c2938d3c",
   "metadata": {
    "scrolled": true
   },
   "outputs": [],
   "source": [
    "!python train_lg.py --rating --threshold 7"
   ]
  },
  {
   "cell_type": "code",
   "execution_count": null,
   "id": "a915d9d3",
   "metadata": {
    "scrolled": true
   },
   "outputs": [],
   "source": [
    "!python train_lg.py --rating --threshold 7.5"
   ]
  },
  {
   "cell_type": "code",
   "execution_count": null,
   "id": "689c3057",
   "metadata": {
    "scrolled": true
   },
   "outputs": [],
   "source": [
    "!python train_lg.py --rating --threshold 8"
   ]
  },
  {
   "cell_type": "markdown",
   "id": "28da70c3",
   "metadata": {},
   "source": [
    "### popularity"
   ]
  },
  {
   "cell_type": "code",
   "execution_count": null,
   "id": "ae291c8b",
   "metadata": {
    "scrolled": true
   },
   "outputs": [],
   "source": [
    "!python train_lg.py --popularity --threshold 10"
   ]
  },
  {
   "cell_type": "code",
   "execution_count": null,
   "id": "ba8adc06",
   "metadata": {
    "scrolled": true
   },
   "outputs": [],
   "source": [
    "!python train_lg.py --popularity --threshold 15"
   ]
  },
  {
   "cell_type": "code",
   "execution_count": null,
   "id": "fbec4bb8",
   "metadata": {
    "scrolled": true
   },
   "outputs": [],
   "source": [
    "!python train_lg.py --popularity --threshold 20"
   ]
  },
  {
   "cell_type": "code",
   "execution_count": null,
   "id": "78fdd2bb",
   "metadata": {
    "scrolled": true
   },
   "outputs": [],
   "source": [
    "!python train_lg.py --popularity --threshold 25"
   ]
  },
  {
   "cell_type": "code",
   "execution_count": null,
   "id": "1f8f7ccd",
   "metadata": {
    "scrolled": true
   },
   "outputs": [],
   "source": [
    "!python train_lg.py --popularity --threshold 30"
   ]
  },
  {
   "cell_type": "code",
   "execution_count": null,
   "id": "3357ced1",
   "metadata": {
    "scrolled": true
   },
   "outputs": [],
   "source": [
    "!python train_lg.py --popularity --threshold 35"
   ]
  },
  {
   "cell_type": "markdown",
   "id": "9b0ea4e5",
   "metadata": {},
   "source": [
    "## NN"
   ]
  },
  {
   "cell_type": "code",
   "execution_count": null,
   "id": "729d8864",
   "metadata": {
    "scrolled": true
   },
   "outputs": [],
   "source": [
    "!python train_nn.py --rating"
   ]
  },
  {
   "cell_type": "code",
   "execution_count": null,
   "id": "bb067351",
   "metadata": {
    "scrolled": true
   },
   "outputs": [],
   "source": [
    "!python train_nn.py --popularity"
   ]
  },
  {
   "cell_type": "markdown",
   "id": "7f1728d2",
   "metadata": {},
   "source": [
    "# before = 1, after = 0.2"
   ]
  },
  {
   "cell_type": "code",
   "execution_count": null,
   "id": "7f35c791",
   "metadata": {
    "scrolled": true
   },
   "outputs": [],
   "source": [
    "!python load_data.py --before 1 --after 0.2"
   ]
  },
  {
   "cell_type": "markdown",
   "id": "d53b828a",
   "metadata": {},
   "source": [
    "## LG"
   ]
  },
  {
   "cell_type": "markdown",
   "id": "69cecb20",
   "metadata": {},
   "source": [
    "### rating"
   ]
  },
  {
   "cell_type": "code",
   "execution_count": null,
   "id": "613f7e55",
   "metadata": {
    "scrolled": true
   },
   "outputs": [],
   "source": [
    "!python train_lg.py --rating --threshold 5"
   ]
  },
  {
   "cell_type": "code",
   "execution_count": null,
   "id": "59001bfc",
   "metadata": {
    "scrolled": true
   },
   "outputs": [],
   "source": [
    "!python train_lg.py --rating --threshold 5.5"
   ]
  },
  {
   "cell_type": "code",
   "execution_count": null,
   "id": "00adb0a0",
   "metadata": {
    "scrolled": true
   },
   "outputs": [],
   "source": [
    "!python train_lg.py --rating --threshold 6"
   ]
  },
  {
   "cell_type": "code",
   "execution_count": null,
   "id": "b69a35e6",
   "metadata": {
    "scrolled": true
   },
   "outputs": [],
   "source": [
    "!python train_lg.py --rating --threshold 6.5"
   ]
  },
  {
   "cell_type": "code",
   "execution_count": null,
   "id": "668c51a5",
   "metadata": {
    "scrolled": true
   },
   "outputs": [],
   "source": [
    "!python train_lg.py --rating --threshold 7"
   ]
  },
  {
   "cell_type": "code",
   "execution_count": null,
   "id": "3c7d59f0",
   "metadata": {
    "scrolled": true
   },
   "outputs": [],
   "source": [
    "!python train_lg.py --rating --threshold 7.5"
   ]
  },
  {
   "cell_type": "code",
   "execution_count": null,
   "id": "17853523",
   "metadata": {
    "scrolled": true
   },
   "outputs": [],
   "source": [
    "!python train_lg.py --rating --threshold 8"
   ]
  },
  {
   "cell_type": "markdown",
   "id": "98e46abe",
   "metadata": {},
   "source": [
    "### popularity"
   ]
  },
  {
   "cell_type": "code",
   "execution_count": null,
   "id": "ea38ebf9",
   "metadata": {
    "scrolled": true
   },
   "outputs": [],
   "source": [
    "!python train_lg.py --popularity --threshold 10"
   ]
  },
  {
   "cell_type": "code",
   "execution_count": null,
   "id": "83b99d23",
   "metadata": {
    "scrolled": true
   },
   "outputs": [],
   "source": [
    "!python train_lg.py --popularity --threshold 15"
   ]
  },
  {
   "cell_type": "code",
   "execution_count": null,
   "id": "adc4564b",
   "metadata": {
    "scrolled": true
   },
   "outputs": [],
   "source": [
    "!python train_lg.py --popularity --threshold 20"
   ]
  },
  {
   "cell_type": "code",
   "execution_count": null,
   "id": "4da93eb2",
   "metadata": {
    "scrolled": true
   },
   "outputs": [],
   "source": [
    "!python train_lg.py --popularity --threshold 25"
   ]
  },
  {
   "cell_type": "code",
   "execution_count": null,
   "id": "e5cec8e6",
   "metadata": {
    "scrolled": true
   },
   "outputs": [],
   "source": [
    "!python train_lg.py --popularity --threshold 30"
   ]
  },
  {
   "cell_type": "code",
   "execution_count": null,
   "id": "4ea6db1a",
   "metadata": {
    "scrolled": true
   },
   "outputs": [],
   "source": [
    "!python train_lg.py --popularity --threshold 35"
   ]
  },
  {
   "cell_type": "markdown",
   "id": "7b5bb0e8",
   "metadata": {},
   "source": [
    "## NN"
   ]
  },
  {
   "cell_type": "code",
   "execution_count": null,
   "id": "116f1628",
   "metadata": {
    "scrolled": true
   },
   "outputs": [],
   "source": [
    "!python train_nn.py --rating"
   ]
  },
  {
   "cell_type": "code",
   "execution_count": null,
   "id": "025970d7",
   "metadata": {
    "scrolled": true
   },
   "outputs": [],
   "source": [
    "!python train_nn.py --popularity"
   ]
  },
  {
   "cell_type": "markdown",
   "id": "ceb14dd8",
   "metadata": {},
   "source": [
    "# before = 1, after = 0.1"
   ]
  },
  {
   "cell_type": "code",
   "execution_count": null,
   "id": "8fc393e9",
   "metadata": {
    "scrolled": true
   },
   "outputs": [],
   "source": [
    "!python load_data.py --before 1 --after 0.1"
   ]
  },
  {
   "cell_type": "markdown",
   "id": "165fc6e9",
   "metadata": {},
   "source": [
    "## LG"
   ]
  },
  {
   "cell_type": "markdown",
   "id": "5ecf1245",
   "metadata": {},
   "source": [
    "### rating"
   ]
  },
  {
   "cell_type": "code",
   "execution_count": null,
   "id": "25d28724",
   "metadata": {
    "scrolled": true
   },
   "outputs": [],
   "source": [
    "!python train_lg.py --rating --threshold 5"
   ]
  },
  {
   "cell_type": "code",
   "execution_count": null,
   "id": "c462925f",
   "metadata": {
    "scrolled": true
   },
   "outputs": [],
   "source": [
    "!python train_lg.py --rating --threshold 5.5"
   ]
  },
  {
   "cell_type": "code",
   "execution_count": null,
   "id": "31ad4b28",
   "metadata": {
    "scrolled": true
   },
   "outputs": [],
   "source": [
    "!python train_lg.py --rating --threshold 6"
   ]
  },
  {
   "cell_type": "code",
   "execution_count": null,
   "id": "16d7233f",
   "metadata": {
    "scrolled": true
   },
   "outputs": [],
   "source": [
    "!python train_lg.py --rating --threshold 6.5"
   ]
  },
  {
   "cell_type": "code",
   "execution_count": null,
   "id": "6daab221",
   "metadata": {
    "scrolled": true
   },
   "outputs": [],
   "source": [
    "!python train_lg.py --rating --threshold 7"
   ]
  },
  {
   "cell_type": "code",
   "execution_count": null,
   "id": "a28e94f3",
   "metadata": {
    "scrolled": true
   },
   "outputs": [],
   "source": [
    "!python train_lg.py --rating --threshold 7.5"
   ]
  },
  {
   "cell_type": "code",
   "execution_count": null,
   "id": "90f2d619",
   "metadata": {
    "scrolled": true
   },
   "outputs": [],
   "source": [
    "!python train_lg.py --rating --threshold 8"
   ]
  },
  {
   "cell_type": "markdown",
   "id": "f5b93c8b",
   "metadata": {},
   "source": [
    "### popularity"
   ]
  },
  {
   "cell_type": "code",
   "execution_count": null,
   "id": "b5946e16",
   "metadata": {
    "scrolled": true
   },
   "outputs": [],
   "source": [
    "!python train_lg.py --popularity --threshold 10"
   ]
  },
  {
   "cell_type": "code",
   "execution_count": null,
   "id": "f800e675",
   "metadata": {
    "scrolled": true
   },
   "outputs": [],
   "source": [
    "!python train_lg.py --popularity --threshold 15"
   ]
  },
  {
   "cell_type": "code",
   "execution_count": null,
   "id": "58f3178f",
   "metadata": {
    "scrolled": true
   },
   "outputs": [],
   "source": [
    "!python train_lg.py --popularity --threshold 20"
   ]
  },
  {
   "cell_type": "code",
   "execution_count": null,
   "id": "e9852d3b",
   "metadata": {
    "scrolled": true
   },
   "outputs": [],
   "source": [
    "!python train_lg.py --popularity --threshold 25"
   ]
  },
  {
   "cell_type": "code",
   "execution_count": null,
   "id": "48591daa",
   "metadata": {
    "scrolled": true
   },
   "outputs": [],
   "source": [
    "!python train_lg.py --popularity --threshold 30"
   ]
  },
  {
   "cell_type": "code",
   "execution_count": null,
   "id": "1ca2d4a3",
   "metadata": {
    "scrolled": true
   },
   "outputs": [],
   "source": [
    "!python train_lg.py --popularity --threshold 35"
   ]
  },
  {
   "cell_type": "markdown",
   "id": "27232877",
   "metadata": {},
   "source": [
    "## NN"
   ]
  },
  {
   "cell_type": "code",
   "execution_count": null,
   "id": "9a0354cc",
   "metadata": {
    "scrolled": true
   },
   "outputs": [],
   "source": [
    "!python train_nn.py --rating"
   ]
  },
  {
   "cell_type": "code",
   "execution_count": null,
   "id": "37847e11",
   "metadata": {
    "scrolled": true
   },
   "outputs": [],
   "source": [
    "!python train_nn.py --popularity"
   ]
  },
  {
   "cell_type": "markdown",
   "id": "c41d8d04",
   "metadata": {},
   "source": [
    "# before = 1, after = 0"
   ]
  },
  {
   "cell_type": "code",
   "execution_count": null,
   "id": "a0cac1a6",
   "metadata": {
    "scrolled": true
   },
   "outputs": [],
   "source": [
    "!python load_data.py --before 1 --after 0"
   ]
  },
  {
   "cell_type": "markdown",
   "id": "8d6eb436",
   "metadata": {},
   "source": [
    "## LG"
   ]
  },
  {
   "cell_type": "markdown",
   "id": "5743d08e",
   "metadata": {},
   "source": [
    "### rating"
   ]
  },
  {
   "cell_type": "code",
   "execution_count": null,
   "id": "769415ed",
   "metadata": {
    "scrolled": true
   },
   "outputs": [],
   "source": [
    "!python train_lg.py --rating --threshold 5"
   ]
  },
  {
   "cell_type": "code",
   "execution_count": null,
   "id": "0314c3d4",
   "metadata": {
    "scrolled": true
   },
   "outputs": [],
   "source": [
    "!python train_lg.py --rating --threshold 5.5"
   ]
  },
  {
   "cell_type": "code",
   "execution_count": null,
   "id": "d3793ea7",
   "metadata": {
    "scrolled": true
   },
   "outputs": [],
   "source": [
    "!python train_lg.py --rating --threshold 6"
   ]
  },
  {
   "cell_type": "code",
   "execution_count": null,
   "id": "d377a1c3",
   "metadata": {
    "scrolled": true
   },
   "outputs": [],
   "source": [
    "!python train_lg.py --rating --threshold 6.5"
   ]
  },
  {
   "cell_type": "code",
   "execution_count": null,
   "id": "012d22b5",
   "metadata": {
    "scrolled": true
   },
   "outputs": [],
   "source": [
    "!python train_lg.py --rating --threshold 7"
   ]
  },
  {
   "cell_type": "code",
   "execution_count": null,
   "id": "ebdc16e7",
   "metadata": {
    "scrolled": true
   },
   "outputs": [],
   "source": [
    "!python train_lg.py --rating --threshold 7.5"
   ]
  },
  {
   "cell_type": "code",
   "execution_count": null,
   "id": "326006a0",
   "metadata": {
    "scrolled": true
   },
   "outputs": [],
   "source": [
    "!python train_lg.py --rating --threshold 8"
   ]
  },
  {
   "cell_type": "markdown",
   "id": "58b6b718",
   "metadata": {},
   "source": [
    "### popularity"
   ]
  },
  {
   "cell_type": "code",
   "execution_count": null,
   "id": "b05324b1",
   "metadata": {
    "scrolled": true
   },
   "outputs": [],
   "source": [
    "!python train_lg.py --popularity --threshold 10"
   ]
  },
  {
   "cell_type": "code",
   "execution_count": null,
   "id": "8a92317d",
   "metadata": {
    "scrolled": true
   },
   "outputs": [],
   "source": [
    "!python train_lg.py --popularity --threshold 15"
   ]
  },
  {
   "cell_type": "code",
   "execution_count": null,
   "id": "e96f7529",
   "metadata": {
    "scrolled": true
   },
   "outputs": [],
   "source": [
    "!python train_lg.py --popularity --threshold 20"
   ]
  },
  {
   "cell_type": "code",
   "execution_count": null,
   "id": "7f415fce",
   "metadata": {
    "scrolled": true
   },
   "outputs": [],
   "source": [
    "!python train_lg.py --popularity --threshold 25"
   ]
  },
  {
   "cell_type": "code",
   "execution_count": null,
   "id": "d99b7905",
   "metadata": {
    "scrolled": true
   },
   "outputs": [],
   "source": [
    "!python train_lg.py --popularity --threshold 30"
   ]
  },
  {
   "cell_type": "code",
   "execution_count": null,
   "id": "2a0ad21d",
   "metadata": {
    "scrolled": true
   },
   "outputs": [],
   "source": [
    "!python train_lg.py --popularity --threshold 35"
   ]
  },
  {
   "cell_type": "markdown",
   "id": "6f0cfec5",
   "metadata": {},
   "source": [
    "## NN"
   ]
  },
  {
   "cell_type": "code",
   "execution_count": null,
   "id": "fea4abe3",
   "metadata": {
    "scrolled": true
   },
   "outputs": [],
   "source": [
    "!python train_nn.py --rating"
   ]
  },
  {
   "cell_type": "code",
   "execution_count": null,
   "id": "e27771ff",
   "metadata": {
    "scrolled": true
   },
   "outputs": [],
   "source": [
    "!python train_nn.py --popularity"
   ]
  },
  {
   "cell_type": "code",
   "execution_count": null,
   "id": "e59029af",
   "metadata": {
    "scrolled": true
   },
   "outputs": [],
   "source": []
  }
 ],
 "metadata": {
  "kernelspec": {
   "display_name": "Python 3",
   "language": "python",
   "name": "python3"
  },
  "language_info": {
   "codemirror_mode": {
    "name": "ipython",
    "version": 3
   },
   "file_extension": ".py",
   "mimetype": "text/x-python",
   "name": "python",
   "nbconvert_exporter": "python",
   "pygments_lexer": "ipython3",
   "version": "3.8.3"
  }
 },
 "nbformat": 4,
 "nbformat_minor": 5
}
